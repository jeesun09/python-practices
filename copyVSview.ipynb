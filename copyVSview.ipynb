{
 "cells": [
  {
   "cell_type": "code",
   "execution_count": 1,
   "id": "1ae24d01",
   "metadata": {},
   "outputs": [],
   "source": [
    "import numpy as np"
   ]
  },
  {
   "cell_type": "code",
   "execution_count": 2,
   "id": "be0d0e2f",
   "metadata": {},
   "outputs": [],
   "source": [
    "arr = np.array([1,2,3,4,5])\n",
    "x = arr.copy()\n",
    "arr[0] = 42"
   ]
  },
  {
   "cell_type": "code",
   "execution_count": 3,
   "id": "9f0815d0",
   "metadata": {},
   "outputs": [
    {
     "name": "stdout",
     "output_type": "stream",
     "text": [
      "[42  2  3  4  5]\n",
      "[1 2 3 4 5]\n"
     ]
    }
   ],
   "source": [
    "print(arr)\n",
    "print(x)"
   ]
  },
  {
   "cell_type": "code",
   "execution_count": 9,
   "id": "aaba532a",
   "metadata": {},
   "outputs": [],
   "source": [
    "arr2 = np.array([1,2,3,4,5])\n",
    "x2 = arr2.view()\n",
    "x2[0] = 31"
   ]
  },
  {
   "cell_type": "code",
   "execution_count": 10,
   "id": "7a7f2dce",
   "metadata": {},
   "outputs": [
    {
     "name": "stdout",
     "output_type": "stream",
     "text": [
      "[31  2  3  4  5]\n",
      "[31  2  3  4  5]\n"
     ]
    }
   ],
   "source": [
    "print(arr2)\n",
    "print(x2)"
   ]
  },
  {
   "cell_type": "code",
   "execution_count": 11,
   "id": "7616336b",
   "metadata": {},
   "outputs": [],
   "source": [
    "arrr = np.array([11, 22, 33, 44, 55, 66, 77, 88, 99])\n",
    "a = arrr.copy()\n",
    "b = arrr.view()"
   ]
  },
  {
   "cell_type": "code",
   "execution_count": 12,
   "id": "c6a56e85",
   "metadata": {},
   "outputs": [
    {
     "name": "stdout",
     "output_type": "stream",
     "text": [
      "None\n",
      "[11 22 33 44 55 66 77 88 99]\n"
     ]
    }
   ],
   "source": [
    "print(a.base)\n",
    "print(b.base)"
   ]
  },
  {
   "cell_type": "markdown",
   "id": "de685017",
   "metadata": {},
   "source": [
    "## Array Slicing"
   ]
  },
  {
   "cell_type": "code",
   "execution_count": 15,
   "id": "76351ce4",
   "metadata": {},
   "outputs": [
    {
     "name": "stdout",
     "output_type": "stream",
     "text": [
      "[44 55]\n"
     ]
    }
   ],
   "source": [
    "print(arrr[3:5])"
   ]
  },
  {
   "cell_type": "code",
   "execution_count": null,
   "id": "adfd5b79",
   "metadata": {},
   "outputs": [],
   "source": []
  }
 ],
 "metadata": {
  "kernelspec": {
   "display_name": "Python 3 (ipykernel)",
   "language": "python",
   "name": "python3"
  },
  "language_info": {
   "codemirror_mode": {
    "name": "ipython",
    "version": 3
   },
   "file_extension": ".py",
   "mimetype": "text/x-python",
   "name": "python",
   "nbconvert_exporter": "python",
   "pygments_lexer": "ipython3",
   "version": "3.11.4"
  }
 },
 "nbformat": 4,
 "nbformat_minor": 5
}
